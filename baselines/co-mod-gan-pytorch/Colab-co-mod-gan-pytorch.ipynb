{
  "nbformat": 4,
  "nbformat_minor": 0,
  "metadata": {
    "colab": {
      "name": "Colab-co-mod-gan-pytorch.ipynb",
      "private_outputs": true,
      "provenance": [],
      "collapsed_sections": []
    },
    "kernelspec": {
      "name": "python3",
      "display_name": "Python 3"
    },
    "language_info": {
      "name": "python"
    },
    "accelerator": "GPU"
  },
  "cells": [
    {
      "cell_type": "markdown",
      "metadata": {
        "id": "S_wSsWY21EoS"
      },
      "source": [
        "# Colab-co-mod-gan-pytorch\n",
        "Original tensorflow version: [zsyzzsoft/co-mod-gan](https://github.com/zsyzzsoft/co-mod-gan)\n",
        "\n",
        "Pytorch version: [zengxianyu/co-mod-gan-pytorch](https://github.com/zengxianyu/co-mod-gan-pytorch)\n",
        "\n",
        "My fork: [styler00dollar/Colab-co-mod-gan-pytorch](https://github.com/styler00dollar/Colab-co-mod-gan-pytorch)"
      ]
    },
    {
      "cell_type": "code",
      "metadata": {
        "id": "OpzXFc_OugU5"
      },
      "source": [
        "!nvidia-smi"
      ],
      "execution_count": null,
      "outputs": []
    },
    {
      "cell_type": "code",
      "metadata": {
        "id": "3tiLerTzuiLY",
        "cellView": "form"
      },
      "source": [
        "#@title setup\n",
        "!git clone https://github.com/zengxianyu/co-mod-gan-pytorch\n",
        "!mkdir \"/content/output\"\n",
        "!mkdir \"/content/input\"\n",
        "#@title download models\n",
        "%cd /content/co-mod-gan-pytorch/\n",
        "!sh download/ffhq512.sh\n",
        "!sh download/ffhq1024.sh\n",
        "!sh download/places512.sh\n",
        "# install ninja\n",
        "%cd /content\n",
        "!wget https://github.com/ninja-build/ninja/releases/download/v1.8.2/ninja-linux.zip\n",
        "!sudo unzip ninja-linux.zip -d /usr/local/bin/\n",
        "!sudo update-alternatives --install /usr/bin/ninja ninja /usr/local/bin/ninja 1 --force"
      ],
      "execution_count": null,
      "outputs": []
    },
    {
      "cell_type": "markdown",
      "metadata": {
        "id": "NH3tnEguw9AG"
      },
      "source": [
        "Models: \n",
        "```\n",
        "co-mod-gan-places2-050000.pth\n",
        "co-mod-gan-ffhq-9-025000.pth # 512px\n",
        "co-mod-gan-ffhq-10-025000.pth # 1024px\n",
        "```"
      ]
    },
    {
      "cell_type": "code",
      "metadata": {
        "id": "w94fl7d1yn_9"
      },
      "source": [
        "#@title resize/invert mask color if needed\n",
        "import cv2\n",
        "image = cv2.imread(\"/content/input.png\")\n",
        "image = cv2.resize(image, (512,512), cv2.INTER_NEAREST)\n",
        "cv2.imwrite(\"/content/input.png\", image)\n",
        "\n",
        "image = cv2.imread(\"/content/mask.png\", cv2.IMREAD_GRAYSCALE)\n",
        "image = cv2.resize(image, (512,512), cv2.INTER_NEAREST)\n",
        "# invert mask if needed\n",
        "# white = original area\n",
        "# black = inpainting\n",
        "image = 255-image\n",
        "cv2.imwrite(\"/content/mask.png\", image)"
      ],
      "execution_count": null,
      "outputs": []
    },
    {
      "cell_type": "code",
      "metadata": {
        "id": "0dLCcsCSvmkA"
      },
      "source": [
        "%cd /content/co-mod-gan-pytorch\n",
        "!python test.py -i /content/input.png -m /content/mask.png -o /content/output.png -c checkpoints/co-mod-gan-places2-050000.pth"
      ],
      "execution_count": null,
      "outputs": []
    },
    {
      "cell_type": "code",
      "metadata": {
        "cellView": "form",
        "id": "CWo3IAPsCyRH"
      },
      "source": [
        "#@title batch_process folder\n",
        "#@markdown Image areas are marked with green\n",
        "%cd /content/co-mod-gan-pytorch\n",
        "import argparse\n",
        "import numpy as np\n",
        "import torch\n",
        "from co_mod_gan import Generator\n",
        "from PIL import Image\n",
        "import glob\n",
        "import cv2\n",
        "from tqdm import tqdm\n",
        "import os\n",
        "\n",
        "output_path = \"/content/output\" #@param\n",
        "rootdir = \"/content/input\" #@param\n",
        "\n",
        "files = glob.glob(rootdir + '/**/*.png', recursive=True)\n",
        "\n",
        "device = \"cuda\"\n",
        "\n",
        "net = Generator()\n",
        "net.load_state_dict(torch.load(\"checkpoints/co-mod-gan-places2-050000.pth\"))\n",
        "net.eval()\n",
        "net = net.to(device)\n",
        "\n",
        "for f in tqdm(files):\n",
        "  images = cv2.imread(f)\n",
        "  images = cv2.cvtColor(images, cv2.COLOR_BGR2RGB)\n",
        "  masks = 1-np.all(images == [0,255,0], axis=-1).astype(int)\n",
        "  masks = torch.from_numpy(masks).unsqueeze(0).unsqueeze(0).float()\n",
        "  images = (torch.from_numpy(images).unsqueeze(0).permute(0,3,1,2)/255)*2-1\n",
        "\n",
        "  latents_in = torch.randn(1, 512)\n",
        "\n",
        "  images = images.to(device)\n",
        "  masks = masks.to(device)\n",
        "  latents_in = latents_in.to(device)\n",
        "\n",
        "  result = net(images, masks, [latents_in], truncation=None)\n",
        "  result = result.detach().cpu().numpy()\n",
        "  result = (result+1)/2\n",
        "  result = (result[0].transpose((1,2,0)))*255\n",
        "  Image.fromarray(result.clip(0,255).astype(np.uint8)).save(os.path.join(output_path, os.path.basename(f)))"
      ],
      "execution_count": null,
      "outputs": []
    },
    {
      "cell_type": "code",
      "metadata": {
        "cellView": "form",
        "id": "roA_RCxzEfVz"
      },
      "source": [
        "#@title delelete folders and recreate them\n",
        "%cd /content/\n",
        "!sudo rm -rf /content/input\n",
        "!sudo rm -rf /content/output\n",
        "!mkdir /content/input\n",
        "!mkdir /content/output"
      ],
      "execution_count": null,
      "outputs": []
    }
  ]
}
